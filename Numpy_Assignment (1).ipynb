{
 "cells": [
  {
   "cell_type": "markdown",
   "metadata": {},
   "source": [
    "#### Write a function so that the columns of the output matrix are powers of the input vector. \n",
    " \n",
    "#### The order of the powers is determined by the increasing boolean argument. Specifically, when increasing is False, the i-th output column is the input vector raised element-wise to the power of N - i - 1. \n",
    " \n",
    " \n",
    "#### HINT: Such a matrix with a geometric progression in each row is named for AlexandreTheophile Vandermonde. "
   ]
  },
  {
   "cell_type": "code",
   "execution_count": 1,
   "metadata": {},
   "outputs": [],
   "source": [
    "import numpy as np\n",
    "def vander_matrix(input_vector,N,increasing=False or True):\n",
    "    \n",
    "    if (increasing==True):\n",
    "        output_matrix=np.power(input_vector,0).reshape(len(input_vector),1)\n",
    "        for i in range(N-1):\n",
    "            x=np.power(input_vector,i+1).reshape(len(input_vector),1)\n",
    "            output_matrix=np.hstack((output_matrix,x))\n",
    "    if (increasing==False):\n",
    "        output_matrix=np.power(input_vector,N-1).reshape(len(input_vector),1)\n",
    "        for i in range(N-1):\n",
    "            x=np.power(input_vector,N-i-2).reshape(len(input_vector),1)\n",
    "            output_matrix=np.hstack((output_matrix,x))        \n",
    "    return output_matrix"
   ]
  },
  {
   "cell_type": "markdown",
   "metadata": {},
   "source": [
    "#### Given a sequence of n values x1, x2, ..., xn and a window size k>0, the k-th moving average of the given sequence is defined as follows: \n",
    " \n",
    "#### The moving average sequence has n-k+1 elements as shown below. \n",
    " \n",
    "#### The moving averages with k=4 of a ten-value sequence (n=10) is shown below \n",
    " \n",
    "#### i 1  2  3  4  5  6  7  8  9 10  \n",
    "#### ===== == == == == == == == == == ==  \n",
    "#### Input 10 20 30 40 50 60 70 80 90 100  \n",
    "#### y1      25 = (10+20+30+40)/4  \n",
    "#### y2      35 = (20+30+40+50)/4  \n",
    "#### y3      45 = (30+40+50+60)/4  \n",
    "#### y4      55 = (40+50+60+70)/4 \n",
    "#### y5      65 = (50+60+70+80)/4 \n",
    "#### y6      75 = (60+70+80+90)/4 \n",
    "#### y7      85 = (70+80+90+100)/4 \n",
    " \n",
    " \n",
    "#### Thus, the moving average sequence has n-k+1=10-4+1=7 values.\n",
    "#### Write a function to find moving average in an array over a window:          \n",
    "#### Test it over [3, 5, 7, 2, 8, 10, 11, 65, 72, 81, 99, 100, 150] and window of 3. "
   ]
  },
  {
   "cell_type": "code",
   "execution_count": 2,
   "metadata": {},
   "outputs": [],
   "source": [
    "def moving_avg(arr,k):\n",
    "    N=len(arr)\n",
    "    Y=[]\n",
    "    for i in range(N-k+1):\n",
    "        sum=0\n",
    "        for x in range(k):\n",
    "            sum= sum+arr[i+x]\n",
    "        Y.append(sum/k)\n",
    "    return Y"
   ]
  },
  {
   "cell_type": "code",
   "execution_count": 3,
   "metadata": {},
   "outputs": [
    {
     "data": {
      "text/plain": [
       "[25.0, 35.0, 45.0, 55.0, 65.0, 75.0, 85.0]"
      ]
     },
     "execution_count": 3,
     "metadata": {},
     "output_type": "execute_result"
    }
   ],
   "source": [
    "moving_avg(np.array([10,20,30,40,50,60,70,80,90,100]),4)\n"
   ]
  },
  {
   "cell_type": "code",
   "execution_count": 4,
   "metadata": {},
   "outputs": [
    {
     "data": {
      "text/plain": [
       "[5.0,\n",
       " 4.666666666666667,\n",
       " 5.666666666666667,\n",
       " 6.666666666666667,\n",
       " 9.666666666666666,\n",
       " 28.666666666666668,\n",
       " 49.333333333333336,\n",
       " 72.66666666666667,\n",
       " 84.0,\n",
       " 93.33333333333333,\n",
       " 116.33333333333333]"
      ]
     },
     "execution_count": 4,
     "metadata": {},
     "output_type": "execute_result"
    }
   ],
   "source": [
    "moving_avg( np.array([3, 5, 7, 2, 8, 10, 11, 65, 72, 81, 99, 100, 150]) ,3)"
   ]
  },
  {
   "cell_type": "code",
   "execution_count": null,
   "metadata": {},
   "outputs": [],
   "source": []
  }
 ],
 "metadata": {
  "kernelspec": {
   "display_name": "Python 3",
   "language": "python",
   "name": "python3"
  },
  "language_info": {
   "codemirror_mode": {
    "name": "ipython",
    "version": 3
   },
   "file_extension": ".py",
   "mimetype": "text/x-python",
   "name": "python",
   "nbconvert_exporter": "python",
   "pygments_lexer": "ipython3",
   "version": "3.7.3"
  }
 },
 "nbformat": 4,
 "nbformat_minor": 2
}
